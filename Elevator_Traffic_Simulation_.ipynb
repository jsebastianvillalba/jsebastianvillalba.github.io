{
  "nbformat": 4,
  "nbformat_minor": 0,
  "metadata": {
    "colab": {
      "provenance": []
    },
    "kernelspec": {
      "name": "python3",
      "display_name": "Python 3"
    },
    "language_info": {
      "name": "python"
    }
  },
  "cells": [
    {
      "cell_type": "markdown",
      "source": [
        "# SIMULACION DE TRÁFICO - VERSIÓN 1"
      ],
      "metadata": {
        "id": "bVu1uMVwLk9T"
      }
    },
    {
      "cell_type": "code",
      "execution_count": 74,
      "metadata": {
        "colab": {
          "base_uri": "https://localhost:8080/"
        },
        "id": "-QgStoaF-Ljs",
        "outputId": "d8c2e47c-2b07-4678-ee9a-6e8a7b58ee6d"
      },
      "outputs": [
        {
          "output_type": "stream",
          "name": "stdout",
          "text": [
            "Drive already mounted at /content/drive; to attempt to forcibly remount, call drive.mount(\"/content/drive\", force_remount=True).\n"
          ]
        }
      ],
      "source": [
        "# Importando librerías\n",
        "from google.colab import drive\n",
        "drive.mount('/content/drive')\n",
        "import pandas as pd\n",
        "import numpy as np\n",
        "import matplotlib.pyplot as plt"
      ]
    },
    {
      "cell_type": "markdown",
      "source": [
        "# DATOS DE POBLACION DEL EDIFICIO"
      ],
      "metadata": {
        "id": "fOIznSAY-IUZ"
      }
    },
    {
      "cell_type": "code",
      "source": [
        "#building = pd.read_csv(r'/content/drive/My Drive/Colab Notebooks/ta_format.csv')\n",
        "#building = pd.read_csv(r'C:\\Users\\jsvil\\OneDrive\\Documents\\UW\\EL_TRAFFIC\\ta_format.csv') ------ to open using Visual Studio\n",
        "data = [\n",
        "    ['S','EF',4,0],\n",
        "    ['L','MF',5,10],\n",
        "    ['2','DF',3,15],\n",
        "    ['3','DF',3,10],\n",
        "    ['4','DF',3,15],\n",
        "    ['5','DF',3,10],\n",
        "    ['6','DF',3,5],\n",
        "    ['7','DF',3,10],\n",
        "    ['8','DF',3,15],\n",
        "    ['9','DF',3,10],\n",
        "    ['10','DF',3,9]\n",
        "]\n",
        "building = pd.DataFrame(data,columns=['NUMENCLATURE','TYPE','HEIGHT','NUMBER OF PEOPLE'])\n",
        "building.head(15)"
      ],
      "metadata": {
        "colab": {
          "base_uri": "https://localhost:8080/",
          "height": 394
        },
        "id": "Ca86QWZv-Vsa",
        "outputId": "72b05554-fee5-45f5-b2b3-09370028acee"
      },
      "execution_count": 75,
      "outputs": [
        {
          "output_type": "execute_result",
          "data": {
            "text/plain": [
              "   NUMENCLATURE TYPE  HEIGHT  NUMBER OF PEOPLE\n",
              "0             S   EF       4                 0\n",
              "1             L   MF       5                10\n",
              "2             2   DF       3                15\n",
              "3             3   DF       3                10\n",
              "4             4   DF       3                15\n",
              "5             5   DF       3                10\n",
              "6             6   DF       3                 5\n",
              "7             7   DF       3                10\n",
              "8             8   DF       3                15\n",
              "9             9   DF       3                10\n",
              "10           10   DF       3                 9"
            ],
            "text/html": [
              "\n",
              "  <div id=\"df-77af06ad-93e0-440b-a83b-4d6097e66873\" class=\"colab-df-container\">\n",
              "    <div>\n",
              "<style scoped>\n",
              "    .dataframe tbody tr th:only-of-type {\n",
              "        vertical-align: middle;\n",
              "    }\n",
              "\n",
              "    .dataframe tbody tr th {\n",
              "        vertical-align: top;\n",
              "    }\n",
              "\n",
              "    .dataframe thead th {\n",
              "        text-align: right;\n",
              "    }\n",
              "</style>\n",
              "<table border=\"1\" class=\"dataframe\">\n",
              "  <thead>\n",
              "    <tr style=\"text-align: right;\">\n",
              "      <th></th>\n",
              "      <th>NUMENCLATURE</th>\n",
              "      <th>TYPE</th>\n",
              "      <th>HEIGHT</th>\n",
              "      <th>NUMBER OF PEOPLE</th>\n",
              "    </tr>\n",
              "  </thead>\n",
              "  <tbody>\n",
              "    <tr>\n",
              "      <th>0</th>\n",
              "      <td>S</td>\n",
              "      <td>EF</td>\n",
              "      <td>4</td>\n",
              "      <td>0</td>\n",
              "    </tr>\n",
              "    <tr>\n",
              "      <th>1</th>\n",
              "      <td>L</td>\n",
              "      <td>MF</td>\n",
              "      <td>5</td>\n",
              "      <td>10</td>\n",
              "    </tr>\n",
              "    <tr>\n",
              "      <th>2</th>\n",
              "      <td>2</td>\n",
              "      <td>DF</td>\n",
              "      <td>3</td>\n",
              "      <td>15</td>\n",
              "    </tr>\n",
              "    <tr>\n",
              "      <th>3</th>\n",
              "      <td>3</td>\n",
              "      <td>DF</td>\n",
              "      <td>3</td>\n",
              "      <td>10</td>\n",
              "    </tr>\n",
              "    <tr>\n",
              "      <th>4</th>\n",
              "      <td>4</td>\n",
              "      <td>DF</td>\n",
              "      <td>3</td>\n",
              "      <td>15</td>\n",
              "    </tr>\n",
              "    <tr>\n",
              "      <th>5</th>\n",
              "      <td>5</td>\n",
              "      <td>DF</td>\n",
              "      <td>3</td>\n",
              "      <td>10</td>\n",
              "    </tr>\n",
              "    <tr>\n",
              "      <th>6</th>\n",
              "      <td>6</td>\n",
              "      <td>DF</td>\n",
              "      <td>3</td>\n",
              "      <td>5</td>\n",
              "    </tr>\n",
              "    <tr>\n",
              "      <th>7</th>\n",
              "      <td>7</td>\n",
              "      <td>DF</td>\n",
              "      <td>3</td>\n",
              "      <td>10</td>\n",
              "    </tr>\n",
              "    <tr>\n",
              "      <th>8</th>\n",
              "      <td>8</td>\n",
              "      <td>DF</td>\n",
              "      <td>3</td>\n",
              "      <td>15</td>\n",
              "    </tr>\n",
              "    <tr>\n",
              "      <th>9</th>\n",
              "      <td>9</td>\n",
              "      <td>DF</td>\n",
              "      <td>3</td>\n",
              "      <td>10</td>\n",
              "    </tr>\n",
              "    <tr>\n",
              "      <th>10</th>\n",
              "      <td>10</td>\n",
              "      <td>DF</td>\n",
              "      <td>3</td>\n",
              "      <td>9</td>\n",
              "    </tr>\n",
              "  </tbody>\n",
              "</table>\n",
              "</div>\n",
              "    <div class=\"colab-df-buttons\">\n",
              "\n",
              "  <div class=\"colab-df-container\">\n",
              "    <button class=\"colab-df-convert\" onclick=\"convertToInteractive('df-77af06ad-93e0-440b-a83b-4d6097e66873')\"\n",
              "            title=\"Convert this dataframe to an interactive table.\"\n",
              "            style=\"display:none;\">\n",
              "\n",
              "  <svg xmlns=\"http://www.w3.org/2000/svg\" height=\"24px\" viewBox=\"0 -960 960 960\">\n",
              "    <path d=\"M120-120v-720h720v720H120Zm60-500h600v-160H180v160Zm220 220h160v-160H400v160Zm0 220h160v-160H400v160ZM180-400h160v-160H180v160Zm440 0h160v-160H620v160ZM180-180h160v-160H180v160Zm440 0h160v-160H620v160Z\"/>\n",
              "  </svg>\n",
              "    </button>\n",
              "\n",
              "  <style>\n",
              "    .colab-df-container {\n",
              "      display:flex;\n",
              "      gap: 12px;\n",
              "    }\n",
              "\n",
              "    .colab-df-convert {\n",
              "      background-color: #E8F0FE;\n",
              "      border: none;\n",
              "      border-radius: 50%;\n",
              "      cursor: pointer;\n",
              "      display: none;\n",
              "      fill: #1967D2;\n",
              "      height: 32px;\n",
              "      padding: 0 0 0 0;\n",
              "      width: 32px;\n",
              "    }\n",
              "\n",
              "    .colab-df-convert:hover {\n",
              "      background-color: #E2EBFA;\n",
              "      box-shadow: 0px 1px 2px rgba(60, 64, 67, 0.3), 0px 1px 3px 1px rgba(60, 64, 67, 0.15);\n",
              "      fill: #174EA6;\n",
              "    }\n",
              "\n",
              "    .colab-df-buttons div {\n",
              "      margin-bottom: 4px;\n",
              "    }\n",
              "\n",
              "    [theme=dark] .colab-df-convert {\n",
              "      background-color: #3B4455;\n",
              "      fill: #D2E3FC;\n",
              "    }\n",
              "\n",
              "    [theme=dark] .colab-df-convert:hover {\n",
              "      background-color: #434B5C;\n",
              "      box-shadow: 0px 1px 3px 1px rgba(0, 0, 0, 0.15);\n",
              "      filter: drop-shadow(0px 1px 2px rgba(0, 0, 0, 0.3));\n",
              "      fill: #FFFFFF;\n",
              "    }\n",
              "  </style>\n",
              "\n",
              "    <script>\n",
              "      const buttonEl =\n",
              "        document.querySelector('#df-77af06ad-93e0-440b-a83b-4d6097e66873 button.colab-df-convert');\n",
              "      buttonEl.style.display =\n",
              "        google.colab.kernel.accessAllowed ? 'block' : 'none';\n",
              "\n",
              "      async function convertToInteractive(key) {\n",
              "        const element = document.querySelector('#df-77af06ad-93e0-440b-a83b-4d6097e66873');\n",
              "        const dataTable =\n",
              "          await google.colab.kernel.invokeFunction('convertToInteractive',\n",
              "                                                    [key], {});\n",
              "        if (!dataTable) return;\n",
              "\n",
              "        const docLinkHtml = 'Like what you see? Visit the ' +\n",
              "          '<a target=\"_blank\" href=https://colab.research.google.com/notebooks/data_table.ipynb>data table notebook</a>'\n",
              "          + ' to learn more about interactive tables.';\n",
              "        element.innerHTML = '';\n",
              "        dataTable['output_type'] = 'display_data';\n",
              "        await google.colab.output.renderOutput(dataTable, element);\n",
              "        const docLink = document.createElement('div');\n",
              "        docLink.innerHTML = docLinkHtml;\n",
              "        element.appendChild(docLink);\n",
              "      }\n",
              "    </script>\n",
              "  </div>\n",
              "\n",
              "\n",
              "<div id=\"df-0bfd576b-7c57-4e93-91c0-61a8c3f8761c\">\n",
              "  <button class=\"colab-df-quickchart\" onclick=\"quickchart('df-0bfd576b-7c57-4e93-91c0-61a8c3f8761c')\"\n",
              "            title=\"Suggest charts.\"\n",
              "            style=\"display:none;\">\n",
              "\n",
              "<svg xmlns=\"http://www.w3.org/2000/svg\" height=\"24px\"viewBox=\"0 0 24 24\"\n",
              "     width=\"24px\">\n",
              "    <g>\n",
              "        <path d=\"M19 3H5c-1.1 0-2 .9-2 2v14c0 1.1.9 2 2 2h14c1.1 0 2-.9 2-2V5c0-1.1-.9-2-2-2zM9 17H7v-7h2v7zm4 0h-2V7h2v10zm4 0h-2v-4h2v4z\"/>\n",
              "    </g>\n",
              "</svg>\n",
              "  </button>\n",
              "\n",
              "<style>\n",
              "  .colab-df-quickchart {\n",
              "      --bg-color: #E8F0FE;\n",
              "      --fill-color: #1967D2;\n",
              "      --hover-bg-color: #E2EBFA;\n",
              "      --hover-fill-color: #174EA6;\n",
              "      --disabled-fill-color: #AAA;\n",
              "      --disabled-bg-color: #DDD;\n",
              "  }\n",
              "\n",
              "  [theme=dark] .colab-df-quickchart {\n",
              "      --bg-color: #3B4455;\n",
              "      --fill-color: #D2E3FC;\n",
              "      --hover-bg-color: #434B5C;\n",
              "      --hover-fill-color: #FFFFFF;\n",
              "      --disabled-bg-color: #3B4455;\n",
              "      --disabled-fill-color: #666;\n",
              "  }\n",
              "\n",
              "  .colab-df-quickchart {\n",
              "    background-color: var(--bg-color);\n",
              "    border: none;\n",
              "    border-radius: 50%;\n",
              "    cursor: pointer;\n",
              "    display: none;\n",
              "    fill: var(--fill-color);\n",
              "    height: 32px;\n",
              "    padding: 0;\n",
              "    width: 32px;\n",
              "  }\n",
              "\n",
              "  .colab-df-quickchart:hover {\n",
              "    background-color: var(--hover-bg-color);\n",
              "    box-shadow: 0 1px 2px rgba(60, 64, 67, 0.3), 0 1px 3px 1px rgba(60, 64, 67, 0.15);\n",
              "    fill: var(--button-hover-fill-color);\n",
              "  }\n",
              "\n",
              "  .colab-df-quickchart-complete:disabled,\n",
              "  .colab-df-quickchart-complete:disabled:hover {\n",
              "    background-color: var(--disabled-bg-color);\n",
              "    fill: var(--disabled-fill-color);\n",
              "    box-shadow: none;\n",
              "  }\n",
              "\n",
              "  .colab-df-spinner {\n",
              "    border: 2px solid var(--fill-color);\n",
              "    border-color: transparent;\n",
              "    border-bottom-color: var(--fill-color);\n",
              "    animation:\n",
              "      spin 1s steps(1) infinite;\n",
              "  }\n",
              "\n",
              "  @keyframes spin {\n",
              "    0% {\n",
              "      border-color: transparent;\n",
              "      border-bottom-color: var(--fill-color);\n",
              "      border-left-color: var(--fill-color);\n",
              "    }\n",
              "    20% {\n",
              "      border-color: transparent;\n",
              "      border-left-color: var(--fill-color);\n",
              "      border-top-color: var(--fill-color);\n",
              "    }\n",
              "    30% {\n",
              "      border-color: transparent;\n",
              "      border-left-color: var(--fill-color);\n",
              "      border-top-color: var(--fill-color);\n",
              "      border-right-color: var(--fill-color);\n",
              "    }\n",
              "    40% {\n",
              "      border-color: transparent;\n",
              "      border-right-color: var(--fill-color);\n",
              "      border-top-color: var(--fill-color);\n",
              "    }\n",
              "    60% {\n",
              "      border-color: transparent;\n",
              "      border-right-color: var(--fill-color);\n",
              "    }\n",
              "    80% {\n",
              "      border-color: transparent;\n",
              "      border-right-color: var(--fill-color);\n",
              "      border-bottom-color: var(--fill-color);\n",
              "    }\n",
              "    90% {\n",
              "      border-color: transparent;\n",
              "      border-bottom-color: var(--fill-color);\n",
              "    }\n",
              "  }\n",
              "</style>\n",
              "\n",
              "  <script>\n",
              "    async function quickchart(key) {\n",
              "      const quickchartButtonEl =\n",
              "        document.querySelector('#' + key + ' button');\n",
              "      quickchartButtonEl.disabled = true;  // To prevent multiple clicks.\n",
              "      quickchartButtonEl.classList.add('colab-df-spinner');\n",
              "      try {\n",
              "        const charts = await google.colab.kernel.invokeFunction(\n",
              "            'suggestCharts', [key], {});\n",
              "      } catch (error) {\n",
              "        console.error('Error during call to suggestCharts:', error);\n",
              "      }\n",
              "      quickchartButtonEl.classList.remove('colab-df-spinner');\n",
              "      quickchartButtonEl.classList.add('colab-df-quickchart-complete');\n",
              "    }\n",
              "    (() => {\n",
              "      let quickchartButtonEl =\n",
              "        document.querySelector('#df-0bfd576b-7c57-4e93-91c0-61a8c3f8761c button');\n",
              "      quickchartButtonEl.style.display =\n",
              "        google.colab.kernel.accessAllowed ? 'block' : 'none';\n",
              "    })();\n",
              "  </script>\n",
              "</div>\n",
              "    </div>\n",
              "  </div>\n"
            ]
          },
          "metadata": {},
          "execution_count": 75
        }
      ]
    },
    {
      "cell_type": "markdown",
      "source": [
        "# DATOS DEL ASCENSOR Y ESTUDIO DE TRÁFICO"
      ],
      "metadata": {
        "id": "KS2TynHC-Opa"
      }
    },
    {
      "cell_type": "code",
      "source": [
        "#Number of simulations\n",
        "capacity = 8 #capacity of elevator (number of passengers)\n",
        "speed = 2\n",
        "acceleration = 1\n",
        "n_simulations = 10000\n",
        "\n",
        "\n",
        "################### Don't touch me, I am Newton #####################\n",
        "t_reach_speed = speed/acceleration\n",
        "x_reach_speed = (acceleration*(t_reach_speed**2))/2"
      ],
      "metadata": {
        "id": "Szn0xEL--YVp"
      },
      "execution_count": 76,
      "outputs": []
    },
    {
      "cell_type": "code",
      "source": [
        "print('la distancia para alcanzar la velocidad nominal es:',x_reach_speed,'metros')"
      ],
      "metadata": {
        "colab": {
          "base_uri": "https://localhost:8080/"
        },
        "id": "19f8PUAoK8K2",
        "outputId": "a3c3a1d2-c02c-4903-8968-07b8d09a89fb"
      },
      "execution_count": 77,
      "outputs": [
        {
          "output_type": "stream",
          "name": "stdout",
          "text": [
            "la distancia para alcanzar la velocidad nominal es: 2.0 metros\n"
          ]
        }
      ]
    },
    {
      "cell_type": "markdown",
      "source": [
        "## Lista de probabilidades por piso (automático)"
      ],
      "metadata": {
        "id": "Jj0GgEDF-iG5"
      }
    },
    {
      "cell_type": "code",
      "source": [
        "#######################\n",
        "time_acc = speed/acceleration\n",
        "dist_acc = 0.5*acceleration*(time_acc**2)\n",
        "\n",
        "#Creating the lists of possible floor destinations and their probability associated\n",
        "\n",
        "#List of destination floors\n",
        "possible_df = list(building[building['TYPE']=='DF']['NUMENCLATURE'])\n",
        "\n",
        "#list of probabilities of each destination floor\n",
        "n_people_df = list(building[building['TYPE']=='DF']['NUMBER OF PEOPLE'])\n",
        "probabilities_df = []\n",
        "for i in range(len(n_people_df)):\n",
        "  probabilities_df.append(n_people_df[i]/sum(n_people_df))\n",
        "print(n_people_df,probabilities_df)"
      ],
      "metadata": {
        "colab": {
          "base_uri": "https://localhost:8080/"
        },
        "id": "VS5otgxI-tOJ",
        "outputId": "838a62c1-4692-4385-ac85-348012c3844e"
      },
      "execution_count": 78,
      "outputs": [
        {
          "output_type": "stream",
          "name": "stdout",
          "text": [
            "[15, 10, 15, 10, 5, 10, 15, 10, 9] [0.15151515151515152, 0.10101010101010101, 0.15151515151515152, 0.10101010101010101, 0.050505050505050504, 0.10101010101010101, 0.15151515151515152, 0.10101010101010101, 0.09090909090909091]\n"
          ]
        }
      ]
    },
    {
      "cell_type": "code",
      "source": [
        "#Skewed - This will create the probability distribution of number of passengers per trip\n",
        "passengers_alpha = capacity*0.2\n",
        "passengers_beta = capacity*0.8\n",
        "univ_pass_skewed = capacity*np.random.beta(passengers_beta,passengers_alpha,n_simulations)"
      ],
      "metadata": {
        "id": "0ffCk_x8-lv-"
      },
      "execution_count": 79,
      "outputs": []
    },
    {
      "cell_type": "markdown",
      "source": [
        "# Código de simulación\n",
        "\n",
        "A partir de la línea For k in range 0,n_simulations, el código se repite n veces y guarda los resultados del RTT para cada iteración.\n",
        "\n",
        "Los pasos de cada iteración son:\n",
        "\n",
        "* El algoritmo selecciona un número aleatorio de personas (K) por viaje basada en una distribución de probabilidad del bloque de código anterior.\n",
        "* El algoritmo selecciona los K pisos destino de el viaje. Para seleccionar los pisos destino el algoritmo tiene en cuenta la probabilidad de viajar a cada piso dada la distribución de población en el edificio.\n",
        "* Luego el algoritmo crea la lista por piso de número de personas que van a entrar o salir en cada piso\n",
        "* Basado en la lista anterior, el algoritmo calcula la lista de distancias que va a recorrer entre cada parada para un viaje\n",
        "\n",
        "* Luego el algoritmo calcula el RTT (esta ecuación no está optimizada todavía)\n"
      ],
      "metadata": {
        "id": "qMWoD__DCuVs"
      }
    },
    {
      "cell_type": "code",
      "source": [
        "RTT_list = []\n",
        "n_times_reached_speed_list = []\n",
        "\n",
        "#######CREATING LIST OF PASSENGERS PER TRIP\n",
        "#Step 1: Selecting randomly the number of passengers per trip\n",
        "for k in range(0,n_simulations):\n",
        "  n_passengers = int(np.random.choice(univ_pass_skewed))\n",
        "  #Here we could store the number of passengers per trip, it will make the simulation to run slower\n",
        "  actual_df = []\n",
        "  # The following code choses k random destination floors based on the floor probabilities\n",
        "  for n in range(n_passengers):\n",
        "    partial_df = np.random.choice(possible_df,p = probabilities_df)\n",
        "    actual_df.append(partial_df)\n",
        "  #Here we could store the destination floors. It would make the simulation to run slower\n",
        "\n",
        "\n",
        "\n",
        "  ####################### Creating the list of distances that elvator will travel among each trip and the amount of people that will stop on each floor#####\n",
        "  n_stops_df_list = []\n",
        "  for i in range(len(building['NUMENCLATURE'])):\n",
        "    count = 0\n",
        "    for j in range(len(actual_df)):\n",
        "      if building['TYPE'][i] == 'MF':\n",
        "        count +=1\n",
        "      elif actual_df[j] == building['NUMENCLATURE'][i]:\n",
        "        count += 1\n",
        "    n_stops_df_list.append(count)\n",
        "\n",
        "\n",
        "  height_list_building = list(building['HEIGHT'])\n",
        "  #Creating a list of the distances between stops u-lift for each travel\n",
        "  tr_time = 0\n",
        "  tr_x = 0\n",
        "  stop_number =  0\n",
        "  distances_to_travel = []\n",
        "  partial_distance = 0\n",
        "  non_stops = 0\n",
        "  #the number of passengers that traveled will set up the last iteration:\n",
        "  passengers_traveled = 0\n",
        "  for i in range(len(height_list_building)):\n",
        "    if stop_number == 0 and n_stops_df_list[i] != 0:\n",
        "      partial_distance += height_list_building[i]\n",
        "      stop_number += 1\n",
        "    elif stop_number > 0 and n_stops_df_list[i] == 0:\n",
        "      partial_distance += height_list_building[i]\n",
        "    elif  stop_number > 0 and n_stops_df_list[i] != 0:\n",
        "      distances_to_travel.append(partial_distance)\n",
        "      partial_distance = height_list_building[i]\n",
        "      stop_number+=1\n",
        "    else:\n",
        "      non_stops += 1\n",
        "  #These formulas are inaccurate for Traffic Simulation\n",
        "  partial_time = 0\n",
        "  n_times_reached_speed = 0\n",
        "  for i in range(len(distances_to_travel)):\n",
        "    t = 0\n",
        "    if distances_to_travel[i] <= 2*x_reach_speed:\n",
        "      t = 2*((0.5*2*distances_to_travel[i]/acceleration)**0.5) #0.5 times 2 is a redundancy but increases equation comprehension\n",
        "      partial_time += t\n",
        "    else:\n",
        "      t = 2*t_reach_speed + (distances_to_travel[i]-2*x_reach_speed)/speed\n",
        "      partial_time += t\n",
        "      n_times_reached_speed +=1\n",
        "\n",
        "  #Creating the list of results\n",
        "  n_times_reached_speed_list.append(n_times_reached_speed/len(distances_to_travel))\n",
        "  RTT = partial_time/speed + sum(distances_to_travel)/speed + stop_number*2 + 0.5*sum(n_stops_df_list)\n",
        "  RTT_list.append(RTT)\n",
        "print(distances_to_travel)"
      ],
      "metadata": {
        "id": "9N8ZjxoO-r26",
        "colab": {
          "base_uri": "https://localhost:8080/"
        },
        "outputId": "feb5390c-28ec-4872-a3ea-4dc32bb1ca25"
      },
      "execution_count": 80,
      "outputs": [
        {
          "output_type": "stream",
          "name": "stdout",
          "text": [
            "[5, 9, 9, 6]\n"
          ]
        }
      ]
    },
    {
      "cell_type": "code",
      "source": [
        "ylabel = 'frequency *'+ str(n_simulations)\n",
        "plt.hist(RTT_list, bins=25, density=True, alpha=0.5, color='b', label='Simulated Data')\n",
        "plt.xlabel('RTT')\n",
        "plt.ylabel(ylabel)"
      ],
      "metadata": {
        "colab": {
          "base_uri": "https://localhost:8080/",
          "height": 466
        },
        "id": "-R3t4c_MAKH4",
        "outputId": "645386b3-a37e-4a76-bd9b-2d81dd25639e"
      },
      "execution_count": 81,
      "outputs": [
        {
          "output_type": "execute_result",
          "data": {
            "text/plain": [
              "Text(0, 0.5, 'frequency *10000')"
            ]
          },
          "metadata": {},
          "execution_count": 81
        },
        {
          "output_type": "display_data",
          "data": {
            "text/plain": [
              "<Figure size 640x480 with 1 Axes>"
            ],
            "image/png": "[encoded data removed]"
          },
          "metadata": {}
        }
      ]
    },
    {
      "cell_type": "code",
      "source": [
        "plt.boxplot(RTT_list)"
      ],
      "metadata": {
        "colab": {
          "base_uri": "https://localhost:8080/",
          "height": 569
        },
        "id": "Y3mdT-BUA7iT",
        "outputId": "45921562-f884-41c3-89ae-c50e62b437d4"
      },
      "execution_count": 82,
      "outputs": [
        {
          "output_type": "execute_result",
          "data": {
            "text/plain": [
              "{'whiskers': [<matplotlib.lines.Line2D at 0x7d4d8c22c370>,\n",
              "  <matplotlib.lines.Line2D at 0x7d4d8c22c610>],\n",
              " 'caps': [<matplotlib.lines.Line2D at 0x7d4d8c22c8b0>,\n",
              "  <matplotlib.lines.Line2D at 0x7d4d8c22cb50>],\n",
              " 'boxes': [<matplotlib.lines.Line2D at 0x7d4d8c22c0d0>],\n",
              " 'medians': [<matplotlib.lines.Line2D at 0x7d4d8c22cdf0>],\n",
              " 'fliers': [<matplotlib.lines.Line2D at 0x7d4d8c22d090>],\n",
              " 'means': []}"
            ]
          },
          "metadata": {},
          "execution_count": 82
        },
        {
          "output_type": "display_data",
          "data": {
            "text/plain": [
              "<Figure size 640x480 with 1 Axes>"
            ],
            "image/png": "[encoded data removed]"
          },
          "metadata": {}
        }
      ]
    },
    {
      "cell_type": "markdown",
      "source": [],
      "metadata": {
        "id": "znmyAuMsgUXX"
      }
    },
    {
      "cell_type": "code",
      "source": [
        "pd.DataFrame(RTT_list)[0].describe()"
      ],
      "metadata": {
        "colab": {
          "base_uri": "https://localhost:8080/"
        },
        "id": "hWfDV5SQgVA-",
        "outputId": "c7cd2d9e-7aac-4433-a489-100b6225f9b6"
      },
      "execution_count": 83,
      "outputs": [
        {
          "output_type": "execute_result",
          "data": {
            "text/plain": [
              "count    10000.000000\n",
              "mean        40.380597\n",
              "std          5.396080\n",
              "min         10.750000\n",
              "25%         37.232051\n",
              "50%         41.196152\n",
              "75%         44.696152\n",
              "max         51.678203\n",
              "Name: 0, dtype: float64"
            ]
          },
          "metadata": {},
          "execution_count": 83
        }
      ]
    },
    {
      "cell_type": "code",
      "source": [
        "print('El porcentaje de veces que el ascensor logra la velocidad nominal entre paradas es:',sum(n_times_reached_speed_list)/len(n_times_reached_speed_list)*100,'%')"
      ],
      "metadata": {
        "colab": {
          "base_uri": "https://localhost:8080/"
        },
        "id": "mq1eeJ2TVJq4",
        "outputId": "38c00fbb-6093-4998-badc-c4dc68e2dc0f"
      },
      "execution_count": 84,
      "outputs": [
        {
          "output_type": "stream",
          "name": "stdout",
          "text": [
            "El porcentaje de veces que el ascensor logra la velocidad nominal entre paradas es: 63.19471428571549 %\n"
          ]
        }
      ]
    },
    {
      "cell_type": "markdown",
      "source": [
        "# Mejoras para futuras versiones"
      ],
      "metadata": {
        "id": "L_N2bUVoaMjg"
      }
    },
    {
      "cell_type": "markdown",
      "source": [
        "* Cómo funcionaría para más de un ascensor. Revisar si para eso hay que seguir un modelo matemático o hay que imitar en el código la lógica de selección de paradas del ascensor (Revisar Handbook)\n",
        "\n",
        "* Revisar si en el Handbook respecto a cómo crear las distribuciones de probabilidad de número de pasajeros por viaje.\n",
        "* Revisar si hay un número de iteraciones mínimas por norma.\n",
        "\n",
        "* Este estudio es 100% up-peak. Se puede crear una versión en donde tenga en cuenta que en un mismo viaje sale y entran pasajeros como en el caso residencial.\n",
        "\n",
        "* Se puede hacer que el algoritmo tenga en cuenta la probabilidad de que las personas entren por los pisos de sótanos al edificio (por el momento asume que todos entran por el Main Floor.\n",
        "\n",
        "* Optimizar el código para que corra más rápido y guarde más datos para visualización y análisis. Por ejemplo, para que corra rápido no dejé que almacenara los pisos en que para en cada iteración.\n",
        "\n",
        "* Optimizar la formula de RTT de acuerdo a los datos reales de los ascensores. Sacar los resultados en funcion del porcentaje de población evacuada en 5 min.\n",
        "\n",
        "\n"
      ],
      "metadata": {
        "id": "cno52i10aQM8"
      }
    }
  ]
}